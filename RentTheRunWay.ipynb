{
 "cells": [
  {
   "cell_type": "markdown",
   "id": "c000424b",
   "metadata": {},
   "source": [
    "#                                   RentTheRunWay"
   ]
  },
  {
   "cell_type": "markdown",
   "id": "486651da",
   "metadata": {},
   "source": [
    "# ● Import the required libraries and load the data"
   ]
  },
  {
   "cell_type": "markdown",
   "id": "847ccbe7",
   "metadata": {},
   "source": [
    "### 1. Load the required libraries and read the dataset."
   ]
  },
  {
   "cell_type": "code",
   "execution_count": 1,
   "id": "9525b37e",
   "metadata": {},
   "outputs": [],
   "source": [
    "# importing libraries\n",
    "\n",
    "import pandas as pd\n",
    "import numpy as np\n",
    "import matplotlib.pyplot as plt\n",
    "import seaborn as sns\n",
    "import warnings\n",
    "warnings.filterwarnings('ignore')\n",
    "\n",
    "from sklearn.preprocessing import StandardScaler,LabelEncoder\n",
    "from scipy import stats\n",
    "from sklearn.cluster import KMeans\n",
    "from scipy.stats import zscore\n",
    "from scipy.spatial import distance\n",
    "from scipy.cluster.hierarchy import linkage, dendrogram, fcluster\n",
    "from sklearn.cluster import AgglomerativeClustering\n",
    "from sklearn.decomposition import PCA\n",
    "from sklearn.model_selection import train_test_split\n",
    "from sklearn import preprocessing\n",
    "from sklearn.preprocessing import Normalizer"
   ]
  },
  {
   "cell_type": "code",
   "execution_count": 2,
   "id": "36abad29",
   "metadata": {},
   "outputs": [],
   "source": [
    "df=pd.read_csv(\"Dataset/renttherunway.csv\")\n"
   ]
  },
  {
   "cell_type": "markdown",
   "id": "7f025f59",
   "metadata": {},
   "source": [
    "### 2. Check the first few samples, shape, info of the data and try to familiarize yourself with different features"
   ]
  },
  {
   "cell_type": "code",
   "execution_count": 3,
   "id": "6783577f",
   "metadata": {},
   "outputs": [
    {
     "data": {
      "text/html": [
       "<div>\n",
       "<style scoped>\n",
       "    .dataframe tbody tr th:only-of-type {\n",
       "        vertical-align: middle;\n",
       "    }\n",
       "\n",
       "    .dataframe tbody tr th {\n",
       "        vertical-align: top;\n",
       "    }\n",
       "\n",
       "    .dataframe thead th {\n",
       "        text-align: right;\n",
       "    }\n",
       "</style>\n",
       "<table border=\"1\" class=\"dataframe\">\n",
       "  <thead>\n",
       "    <tr style=\"text-align: right;\">\n",
       "      <th></th>\n",
       "      <th>Unnamed: 0</th>\n",
       "      <th>fit</th>\n",
       "      <th>user_id</th>\n",
       "      <th>bust size</th>\n",
       "      <th>item_id</th>\n",
       "      <th>weight</th>\n",
       "      <th>rating</th>\n",
       "      <th>rented for</th>\n",
       "      <th>review_text</th>\n",
       "      <th>body type</th>\n",
       "      <th>review_summary</th>\n",
       "      <th>category</th>\n",
       "      <th>height</th>\n",
       "      <th>size</th>\n",
       "      <th>age</th>\n",
       "      <th>review_date</th>\n",
       "    </tr>\n",
       "  </thead>\n",
       "  <tbody>\n",
       "    <tr>\n",
       "      <th>0</th>\n",
       "      <td>0</td>\n",
       "      <td>fit</td>\n",
       "      <td>420272</td>\n",
       "      <td>34d</td>\n",
       "      <td>2260466</td>\n",
       "      <td>137lbs</td>\n",
       "      <td>10.0</td>\n",
       "      <td>vacation</td>\n",
       "      <td>An adorable romper! Belt and zipper were a lit...</td>\n",
       "      <td>hourglass</td>\n",
       "      <td>So many compliments!</td>\n",
       "      <td>romper</td>\n",
       "      <td>5' 8\"</td>\n",
       "      <td>14</td>\n",
       "      <td>28.0</td>\n",
       "      <td>April 20, 2016</td>\n",
       "    </tr>\n",
       "    <tr>\n",
       "      <th>1</th>\n",
       "      <td>1</td>\n",
       "      <td>fit</td>\n",
       "      <td>273551</td>\n",
       "      <td>34b</td>\n",
       "      <td>153475</td>\n",
       "      <td>132lbs</td>\n",
       "      <td>10.0</td>\n",
       "      <td>other</td>\n",
       "      <td>I rented this dress for a photo shoot. The the...</td>\n",
       "      <td>straight &amp; narrow</td>\n",
       "      <td>I felt so glamourous!!!</td>\n",
       "      <td>gown</td>\n",
       "      <td>5' 6\"</td>\n",
       "      <td>12</td>\n",
       "      <td>36.0</td>\n",
       "      <td>June 18, 2013</td>\n",
       "    </tr>\n",
       "    <tr>\n",
       "      <th>2</th>\n",
       "      <td>2</td>\n",
       "      <td>fit</td>\n",
       "      <td>360448</td>\n",
       "      <td>NaN</td>\n",
       "      <td>1063761</td>\n",
       "      <td>NaN</td>\n",
       "      <td>10.0</td>\n",
       "      <td>party</td>\n",
       "      <td>This hugged in all the right places! It was a ...</td>\n",
       "      <td>NaN</td>\n",
       "      <td>It was a great time to celebrate the (almost) ...</td>\n",
       "      <td>sheath</td>\n",
       "      <td>5' 4\"</td>\n",
       "      <td>4</td>\n",
       "      <td>116.0</td>\n",
       "      <td>December 14, 2015</td>\n",
       "    </tr>\n",
       "    <tr>\n",
       "      <th>3</th>\n",
       "      <td>3</td>\n",
       "      <td>fit</td>\n",
       "      <td>909926</td>\n",
       "      <td>34c</td>\n",
       "      <td>126335</td>\n",
       "      <td>135lbs</td>\n",
       "      <td>8.0</td>\n",
       "      <td>formal affair</td>\n",
       "      <td>I rented this for my company's black tie award...</td>\n",
       "      <td>pear</td>\n",
       "      <td>Dress arrived on time and in perfect condition.</td>\n",
       "      <td>dress</td>\n",
       "      <td>5' 5\"</td>\n",
       "      <td>8</td>\n",
       "      <td>34.0</td>\n",
       "      <td>February 12, 2014</td>\n",
       "    </tr>\n",
       "    <tr>\n",
       "      <th>4</th>\n",
       "      <td>4</td>\n",
       "      <td>fit</td>\n",
       "      <td>151944</td>\n",
       "      <td>34b</td>\n",
       "      <td>616682</td>\n",
       "      <td>145lbs</td>\n",
       "      <td>10.0</td>\n",
       "      <td>wedding</td>\n",
       "      <td>I have always been petite in my upper body and...</td>\n",
       "      <td>athletic</td>\n",
       "      <td>Was in love with this dress !!!</td>\n",
       "      <td>gown</td>\n",
       "      <td>5' 9\"</td>\n",
       "      <td>12</td>\n",
       "      <td>27.0</td>\n",
       "      <td>September 26, 2016</td>\n",
       "    </tr>\n",
       "  </tbody>\n",
       "</table>\n",
       "</div>"
      ],
      "text/plain": [
       "   Unnamed: 0  fit  user_id bust size  item_id  weight  rating     rented for  \\\n",
       "0           0  fit   420272       34d  2260466  137lbs    10.0       vacation   \n",
       "1           1  fit   273551       34b   153475  132lbs    10.0          other   \n",
       "2           2  fit   360448       NaN  1063761     NaN    10.0          party   \n",
       "3           3  fit   909926       34c   126335  135lbs     8.0  formal affair   \n",
       "4           4  fit   151944       34b   616682  145lbs    10.0        wedding   \n",
       "\n",
       "                                         review_text          body type  \\\n",
       "0  An adorable romper! Belt and zipper were a lit...          hourglass   \n",
       "1  I rented this dress for a photo shoot. The the...  straight & narrow   \n",
       "2  This hugged in all the right places! It was a ...                NaN   \n",
       "3  I rented this for my company's black tie award...               pear   \n",
       "4  I have always been petite in my upper body and...           athletic   \n",
       "\n",
       "                                      review_summary category height  size  \\\n",
       "0                               So many compliments!   romper  5' 8\"    14   \n",
       "1                            I felt so glamourous!!!     gown  5' 6\"    12   \n",
       "2  It was a great time to celebrate the (almost) ...   sheath  5' 4\"     4   \n",
       "3   Dress arrived on time and in perfect condition.     dress  5' 5\"     8   \n",
       "4                    Was in love with this dress !!!     gown  5' 9\"    12   \n",
       "\n",
       "     age         review_date  \n",
       "0   28.0      April 20, 2016  \n",
       "1   36.0       June 18, 2013  \n",
       "2  116.0   December 14, 2015  \n",
       "3   34.0   February 12, 2014  \n",
       "4   27.0  September 26, 2016  "
      ]
     },
     "execution_count": 3,
     "metadata": {},
     "output_type": "execute_result"
    }
   ],
   "source": [
    "df.head()"
   ]
  },
  {
   "cell_type": "code",
   "execution_count": 4,
   "id": "7d4e1429",
   "metadata": {},
   "outputs": [
    {
     "data": {
      "text/plain": [
       "(192544, 16)"
      ]
     },
     "execution_count": 4,
     "metadata": {},
     "output_type": "execute_result"
    }
   ],
   "source": [
    "df.shape"
   ]
  },
  {
   "cell_type": "code",
   "execution_count": 5,
   "id": "61847fa7",
   "metadata": {},
   "outputs": [
    {
     "name": "stdout",
     "output_type": "stream",
     "text": [
      "<class 'pandas.core.frame.DataFrame'>\n",
      "RangeIndex: 192544 entries, 0 to 192543\n",
      "Data columns (total 16 columns):\n",
      " #   Column          Non-Null Count   Dtype  \n",
      "---  ------          --------------   -----  \n",
      " 0   Unnamed: 0      192544 non-null  int64  \n",
      " 1   fit             192544 non-null  object \n",
      " 2   user_id         192544 non-null  int64  \n",
      " 3   bust size       174133 non-null  object \n",
      " 4   item_id         192544 non-null  int64  \n",
      " 5   weight          162562 non-null  object \n",
      " 6   rating          192462 non-null  float64\n",
      " 7   rented for      192534 non-null  object \n",
      " 8   review_text     192482 non-null  object \n",
      " 9   body type       177907 non-null  object \n",
      " 10  review_summary  192199 non-null  object \n",
      " 11  category        192544 non-null  object \n",
      " 12  height          191867 non-null  object \n",
      " 13  size            192544 non-null  int64  \n",
      " 14  age             191584 non-null  float64\n",
      " 15  review_date     192544 non-null  object \n",
      "dtypes: float64(2), int64(4), object(10)\n",
      "memory usage: 23.5+ MB\n"
     ]
    }
   ],
   "source": [
    "df.info()"
   ]
  },
  {
   "cell_type": "code",
   "execution_count": 6,
   "id": "4fc2888a",
   "metadata": {},
   "outputs": [
    {
     "data": {
      "text/html": [
       "<div>\n",
       "<style scoped>\n",
       "    .dataframe tbody tr th:only-of-type {\n",
       "        vertical-align: middle;\n",
       "    }\n",
       "\n",
       "    .dataframe tbody tr th {\n",
       "        vertical-align: top;\n",
       "    }\n",
       "\n",
       "    .dataframe thead th {\n",
       "        text-align: right;\n",
       "    }\n",
       "</style>\n",
       "<table border=\"1\" class=\"dataframe\">\n",
       "  <thead>\n",
       "    <tr style=\"text-align: right;\">\n",
       "      <th></th>\n",
       "      <th>Unnamed: 0</th>\n",
       "      <th>user_id</th>\n",
       "      <th>item_id</th>\n",
       "      <th>rating</th>\n",
       "      <th>size</th>\n",
       "      <th>age</th>\n",
       "    </tr>\n",
       "  </thead>\n",
       "  <tbody>\n",
       "    <tr>\n",
       "      <th>count</th>\n",
       "      <td>192544.000000</td>\n",
       "      <td>192544.000000</td>\n",
       "      <td>1.925440e+05</td>\n",
       "      <td>192462.000000</td>\n",
       "      <td>192544.000000</td>\n",
       "      <td>191584.000000</td>\n",
       "    </tr>\n",
       "    <tr>\n",
       "      <th>mean</th>\n",
       "      <td>96271.500000</td>\n",
       "      <td>499494.100149</td>\n",
       "      <td>1.045684e+06</td>\n",
       "      <td>9.092371</td>\n",
       "      <td>12.245175</td>\n",
       "      <td>33.871017</td>\n",
       "    </tr>\n",
       "    <tr>\n",
       "      <th>std</th>\n",
       "      <td>55582.809453</td>\n",
       "      <td>289059.719328</td>\n",
       "      <td>8.053148e+05</td>\n",
       "      <td>1.430044</td>\n",
       "      <td>8.494877</td>\n",
       "      <td>8.058083</td>\n",
       "    </tr>\n",
       "    <tr>\n",
       "      <th>min</th>\n",
       "      <td>0.000000</td>\n",
       "      <td>9.000000</td>\n",
       "      <td>1.233730e+05</td>\n",
       "      <td>2.000000</td>\n",
       "      <td>0.000000</td>\n",
       "      <td>0.000000</td>\n",
       "    </tr>\n",
       "    <tr>\n",
       "      <th>25%</th>\n",
       "      <td>48135.750000</td>\n",
       "      <td>250654.250000</td>\n",
       "      <td>1.950760e+05</td>\n",
       "      <td>8.000000</td>\n",
       "      <td>8.000000</td>\n",
       "      <td>29.000000</td>\n",
       "    </tr>\n",
       "    <tr>\n",
       "      <th>50%</th>\n",
       "      <td>96271.500000</td>\n",
       "      <td>499419.000000</td>\n",
       "      <td>9.483960e+05</td>\n",
       "      <td>10.000000</td>\n",
       "      <td>12.000000</td>\n",
       "      <td>32.000000</td>\n",
       "    </tr>\n",
       "    <tr>\n",
       "      <th>75%</th>\n",
       "      <td>144407.250000</td>\n",
       "      <td>750974.000000</td>\n",
       "      <td>1.678888e+06</td>\n",
       "      <td>10.000000</td>\n",
       "      <td>16.000000</td>\n",
       "      <td>37.000000</td>\n",
       "    </tr>\n",
       "    <tr>\n",
       "      <th>max</th>\n",
       "      <td>192543.000000</td>\n",
       "      <td>999997.000000</td>\n",
       "      <td>2.966087e+06</td>\n",
       "      <td>10.000000</td>\n",
       "      <td>58.000000</td>\n",
       "      <td>117.000000</td>\n",
       "    </tr>\n",
       "  </tbody>\n",
       "</table>\n",
       "</div>"
      ],
      "text/plain": [
       "          Unnamed: 0        user_id       item_id         rating  \\\n",
       "count  192544.000000  192544.000000  1.925440e+05  192462.000000   \n",
       "mean    96271.500000  499494.100149  1.045684e+06       9.092371   \n",
       "std     55582.809453  289059.719328  8.053148e+05       1.430044   \n",
       "min         0.000000       9.000000  1.233730e+05       2.000000   \n",
       "25%     48135.750000  250654.250000  1.950760e+05       8.000000   \n",
       "50%     96271.500000  499419.000000  9.483960e+05      10.000000   \n",
       "75%    144407.250000  750974.000000  1.678888e+06      10.000000   \n",
       "max    192543.000000  999997.000000  2.966087e+06      10.000000   \n",
       "\n",
       "                size            age  \n",
       "count  192544.000000  191584.000000  \n",
       "mean       12.245175      33.871017  \n",
       "std         8.494877       8.058083  \n",
       "min         0.000000       0.000000  \n",
       "25%         8.000000      29.000000  \n",
       "50%        12.000000      32.000000  \n",
       "75%        16.000000      37.000000  \n",
       "max        58.000000     117.000000  "
      ]
     },
     "execution_count": 6,
     "metadata": {},
     "output_type": "execute_result"
    }
   ],
   "source": [
    "df.describe()"
   ]
  },
  {
   "cell_type": "code",
   "execution_count": 7,
   "id": "dd5700d8",
   "metadata": {},
   "outputs": [
    {
     "data": {
      "text/plain": [
       "Unnamed: 0         0.000000\n",
       "fit                0.000000\n",
       "user_id            0.000000\n",
       "bust size          9.561970\n",
       "item_id            0.000000\n",
       "weight            15.571506\n",
       "rating             0.042588\n",
       "rented for         0.005194\n",
       "review_text        0.032200\n",
       "body type          7.601899\n",
       "review_summary     0.179180\n",
       "category           0.000000\n",
       "height             0.351608\n",
       "size               0.000000\n",
       "age                0.498587\n",
       "review_date        0.000000\n",
       "dtype: float64"
      ]
     },
     "execution_count": 7,
     "metadata": {},
     "output_type": "execute_result"
    }
   ],
   "source": [
    "# Percentage of null values in a specific column of the dataset\n",
    "\n",
    "df.isnull().sum()/len(df) * 100"
   ]
  },
  {
   "cell_type": "markdown",
   "id": "9d18bf0d",
   "metadata": {},
   "source": [
    "# ● Data cleansing and Exploratory data analysis"
   ]
  },
  {
   "cell_type": "markdown",
   "id": "00c75e0f",
   "metadata": {},
   "source": [
    "### 3. Check if there are any duplicate records in the dataset? If any, drop them."
   ]
  },
  {
   "cell_type": "code",
   "execution_count": 8,
   "id": "1d274df2",
   "metadata": {},
   "outputs": [
    {
     "data": {
      "text/plain": [
       "0"
      ]
     },
     "execution_count": 8,
     "metadata": {},
     "output_type": "execute_result"
    }
   ],
   "source": [
    "len(df[df.duplicated()])"
   ]
  },
  {
   "cell_type": "markdown",
   "id": "f6be1bb5",
   "metadata": {},
   "source": [
    "No duplicate records."
   ]
  },
  {
   "cell_type": "markdown",
   "id": "f172583a",
   "metadata": {},
   "source": [
    "### 4. Drop the columns which you think redundant for the analysis.(Hint: drop columns like ‘id’, ‘review’)"
   ]
  },
  {
   "cell_type": "code",
   "execution_count": 9,
   "id": "65020fcb",
   "metadata": {},
   "outputs": [
    {
     "data": {
      "text/plain": [
       "Index(['Unnamed: 0', 'fit', 'user_id', 'bust size', 'item_id', 'weight',\n",
       "       'rating', 'rented for', 'review_text', 'body type', 'review_summary',\n",
       "       'category', 'height', 'size', 'age', 'review_date'],\n",
       "      dtype='object')"
      ]
     },
     "execution_count": 9,
     "metadata": {},
     "output_type": "execute_result"
    }
   ],
   "source": [
    "df.columns"
   ]
  },
  {
   "cell_type": "code",
   "execution_count": 10,
   "id": "5d83cf31",
   "metadata": {},
   "outputs": [],
   "source": [
    "df=df.drop(['Unnamed: 0', 'user_id', 'item_id','review_text', 'review_summary','review_date'],axis=1)"
   ]
  },
  {
   "cell_type": "code",
   "execution_count": 11,
   "id": "6a816f40",
   "metadata": {},
   "outputs": [
    {
     "data": {
      "text/plain": [
       "Index(['fit', 'bust size', 'weight', 'rating', 'rented for', 'body type',\n",
       "       'category', 'height', 'size', 'age'],\n",
       "      dtype='object')"
      ]
     },
     "execution_count": 11,
     "metadata": {},
     "output_type": "execute_result"
    }
   ],
   "source": [
    "df.columns"
   ]
  },
  {
   "cell_type": "markdown",
   "id": "bb6eb372",
   "metadata": {},
   "source": [
    "### 5. Check the column 'weight', Is there any presence of string data? If yes, remove the string data and convert to float. (Hint: 'weight' has the suffix as lbs)"
   ]
  },
  {
   "cell_type": "code",
   "execution_count": 12,
   "id": "868ef0f0",
   "metadata": {},
   "outputs": [
    {
     "data": {
      "text/plain": [
       "0         137lbs\n",
       "1         132lbs\n",
       "2            NaN\n",
       "3         135lbs\n",
       "4         145lbs\n",
       "           ...  \n",
       "192539    140lbs\n",
       "192540    100lbs\n",
       "192541    135lbs\n",
       "192542    165lbs\n",
       "192543    155lbs\n",
       "Name: weight, Length: 192544, dtype: object"
      ]
     },
     "execution_count": 12,
     "metadata": {},
     "output_type": "execute_result"
    }
   ],
   "source": [
    "df['weight']"
   ]
  },
  {
   "cell_type": "code",
   "execution_count": 13,
   "id": "2756ea22",
   "metadata": {},
   "outputs": [],
   "source": [
    "df['weight']=pd.to_numeric(df['weight'].str.replace('lbs',''))"
   ]
  },
  {
   "cell_type": "code",
   "execution_count": 14,
   "id": "df068bdf",
   "metadata": {},
   "outputs": [
    {
     "data": {
      "text/plain": [
       "0         137.0\n",
       "1         132.0\n",
       "2           NaN\n",
       "3         135.0\n",
       "4         145.0\n",
       "          ...  \n",
       "192539    140.0\n",
       "192540    100.0\n",
       "192541    135.0\n",
       "192542    165.0\n",
       "192543    155.0\n",
       "Name: weight, Length: 192544, dtype: float64"
      ]
     },
     "execution_count": 14,
     "metadata": {},
     "output_type": "execute_result"
    }
   ],
   "source": [
    "df['weight']"
   ]
  },
  {
   "cell_type": "code",
   "execution_count": 15,
   "id": "14e95189",
   "metadata": {},
   "outputs": [],
   "source": [
    "df.weight.fillna(0,inplace=True)"
   ]
  },
  {
   "cell_type": "code",
   "execution_count": 16,
   "id": "7f27d1ff",
   "metadata": {},
   "outputs": [
    {
     "data": {
      "text/plain": [
       "0         137.0\n",
       "1         132.0\n",
       "2           0.0\n",
       "3         135.0\n",
       "4         145.0\n",
       "          ...  \n",
       "192539    140.0\n",
       "192540    100.0\n",
       "192541    135.0\n",
       "192542    165.0\n",
       "192543    155.0\n",
       "Name: weight, Length: 192544, dtype: float64"
      ]
     },
     "execution_count": 16,
     "metadata": {},
     "output_type": "execute_result"
    }
   ],
   "source": [
    "df['weight']"
   ]
  },
  {
   "cell_type": "markdown",
   "id": "b2ea0ca4",
   "metadata": {},
   "source": [
    "### 6. Check the unique categories for the column 'rented for' and group 'party: cocktail' category with 'party'. ("
   ]
  },
  {
   "cell_type": "code",
   "execution_count": 17,
   "id": "7b5c3349",
   "metadata": {},
   "outputs": [
    {
     "data": {
      "text/plain": [
       "array(['vacation', 'other', 'party', 'formal affair', 'wedding', 'date',\n",
       "       'everyday', 'work', nan, 'party: cocktail'], dtype=object)"
      ]
     },
     "execution_count": 17,
     "metadata": {},
     "output_type": "execute_result"
    }
   ],
   "source": [
    "df[ 'rented for'].unique()"
   ]
  },
  {
   "cell_type": "code",
   "execution_count": 18,
   "id": "dc810784",
   "metadata": {},
   "outputs": [],
   "source": [
    "df['rented for'] =df['rented for'].replace(['party', 'party: cocktail' ], 'party' )\n"
   ]
  },
  {
   "cell_type": "code",
   "execution_count": 19,
   "id": "47128ae9",
   "metadata": {},
   "outputs": [
    {
     "data": {
      "text/plain": [
       "array(['vacation', 'other', 'party', 'formal affair', 'wedding', 'date',\n",
       "       'everyday', 'work', nan], dtype=object)"
      ]
     },
     "execution_count": 19,
     "metadata": {},
     "output_type": "execute_result"
    }
   ],
   "source": [
    "df['rented for'].unique()"
   ]
  },
  {
   "cell_type": "markdown",
   "id": "0637aaa6",
   "metadata": {},
   "source": [
    "### 7. The column 'height' is in feet with a quotation mark, Convert to inches with float datatype"
   ]
  },
  {
   "cell_type": "code",
   "execution_count": 20,
   "id": "9ba27827",
   "metadata": {},
   "outputs": [
    {
     "data": {
      "text/plain": [
       "0         5' 8\"\n",
       "1         5' 6\"\n",
       "2         5' 4\"\n",
       "3         5' 5\"\n",
       "4         5' 9\"\n",
       "          ...  \n",
       "192539    5' 9\"\n",
       "192540    5' 1\"\n",
       "192541    5' 8\"\n",
       "192542    5' 6\"\n",
       "192543    5' 6\"\n",
       "Name: height, Length: 192544, dtype: object"
      ]
     },
     "execution_count": 20,
     "metadata": {},
     "output_type": "execute_result"
    }
   ],
   "source": [
    "df['height']"
   ]
  },
  {
   "cell_type": "code",
   "execution_count": 21,
   "id": "9f5b7ed1",
   "metadata": {},
   "outputs": [],
   "source": [
    "df['height']=df['height'].str.replace('\"','')\n"
   ]
  },
  {
   "cell_type": "code",
   "execution_count": 22,
   "id": "5664db40",
   "metadata": {},
   "outputs": [
    {
     "data": {
      "text/plain": [
       "0         5' 8\n",
       "1         5' 6\n",
       "2         5' 4\n",
       "3         5' 5\n",
       "4         5' 9\n",
       "          ... \n",
       "192539    5' 9\n",
       "192540    5' 1\n",
       "192541    5' 8\n",
       "192542    5' 6\n",
       "192543    5' 6\n",
       "Name: height, Length: 192544, dtype: object"
      ]
     },
     "execution_count": 22,
     "metadata": {},
     "output_type": "execute_result"
    }
   ],
   "source": [
    "df['height']"
   ]
  },
  {
   "cell_type": "code",
   "execution_count": 23,
   "id": "a7331192",
   "metadata": {},
   "outputs": [
    {
     "data": {
      "text/plain": [
       "0         68.0\n",
       "1         66.0\n",
       "2         64.0\n",
       "3         65.0\n",
       "4         69.0\n",
       "          ... \n",
       "192539    69.0\n",
       "192540    61.0\n",
       "192541    68.0\n",
       "192542    66.0\n",
       "192543    66.0\n",
       "Name: height, Length: 192544, dtype: float64"
      ]
     },
     "execution_count": 23,
     "metadata": {},
     "output_type": "execute_result"
    }
   ],
   "source": [
    "df[\"height\"] = (df.height.str.split(\"'\").str[0].astype(float) * 12) + (\n",
    "    df.height.str.split(\"'\").str[1].astype(float)\n",
    ")\n",
    "df['height']"
   ]
  },
  {
   "cell_type": "markdown",
   "id": "e26532f0",
   "metadata": {},
   "source": [
    "### 8. Check for missing values in each column of the dataset? If it exists, impute them with appropriate methods."
   ]
  },
  {
   "cell_type": "code",
   "execution_count": 24,
   "id": "5b779a19",
   "metadata": {},
   "outputs": [
    {
     "data": {
      "text/plain": [
       "fit           0.000000\n",
       "bust size     9.561970\n",
       "weight        0.000000\n",
       "rating        0.042588\n",
       "rented for    0.005194\n",
       "body type     7.601899\n",
       "category      0.000000\n",
       "height        0.351608\n",
       "size          0.000000\n",
       "age           0.498587\n",
       "dtype: float64"
      ]
     },
     "execution_count": 24,
     "metadata": {},
     "output_type": "execute_result"
    }
   ],
   "source": [
    "df.isnull().sum()/len(df) * 100"
   ]
  },
  {
   "cell_type": "code",
   "execution_count": 25,
   "id": "95603f80",
   "metadata": {},
   "outputs": [],
   "source": [
    "missing_values = df.isnull().sum()/len(df)\n",
    "\n",
    "## These are the index of both categorical columns as well as numerical columns having null values.\n",
    "index = [i  for i in missing_values[missing_values>0].index]\n",
    "\n",
    "## separating numerical columns and categorical columns\n",
    "numerical_columns = [i     for i in index      if i in df.columns and  df[i].dtype!=object]\n",
    "categorical_columns = [i     for i in index      if i in df.columns and  df[i].dtype==object]\n",
    "\n",
    "## Filling the null values of the numerical columns with median computation.\n",
    "for columns in numerical_columns:\n",
    "    df[columns]=df[columns].fillna(df[columns].median())\n",
    "    \n",
    "## Filling the null values of the categorical columns with mode computation.\n",
    "for columns in categorical_columns:\n",
    "    df[columns]=df[columns].fillna(df[columns].mode()[0])"
   ]
  },
  {
   "cell_type": "code",
   "execution_count": 26,
   "id": "689d82a3",
   "metadata": {},
   "outputs": [
    {
     "data": {
      "text/plain": [
       "fit           0.0\n",
       "bust size     0.0\n",
       "weight        0.0\n",
       "rating        0.0\n",
       "rented for    0.0\n",
       "body type     0.0\n",
       "category      0.0\n",
       "height        0.0\n",
       "size          0.0\n",
       "age           0.0\n",
       "dtype: float64"
      ]
     },
     "execution_count": 26,
     "metadata": {},
     "output_type": "execute_result"
    }
   ],
   "source": [
    "df.isnull().sum()/len(df) * 100"
   ]
  },
  {
   "cell_type": "markdown",
   "id": "a49bd9b0",
   "metadata": {},
   "source": [
    "### 9. Check the statistical summary for the numerical and categorical columns and write your findings. "
   ]
  },
  {
   "cell_type": "code",
   "execution_count": 27,
   "id": "957fad5f",
   "metadata": {},
   "outputs": [
    {
     "data": {
      "text/html": [
       "<div>\n",
       "<style scoped>\n",
       "    .dataframe tbody tr th:only-of-type {\n",
       "        vertical-align: middle;\n",
       "    }\n",
       "\n",
       "    .dataframe tbody tr th {\n",
       "        vertical-align: top;\n",
       "    }\n",
       "\n",
       "    .dataframe thead th {\n",
       "        text-align: right;\n",
       "    }\n",
       "</style>\n",
       "<table border=\"1\" class=\"dataframe\">\n",
       "  <thead>\n",
       "    <tr style=\"text-align: right;\">\n",
       "      <th></th>\n",
       "      <th>weight</th>\n",
       "      <th>rating</th>\n",
       "      <th>height</th>\n",
       "      <th>size</th>\n",
       "      <th>age</th>\n",
       "    </tr>\n",
       "  </thead>\n",
       "  <tbody>\n",
       "    <tr>\n",
       "      <th>count</th>\n",
       "      <td>192544.000000</td>\n",
       "      <td>192544.000000</td>\n",
       "      <td>192544.000000</td>\n",
       "      <td>192544.000000</td>\n",
       "      <td>192544.000000</td>\n",
       "    </tr>\n",
       "    <tr>\n",
       "      <th>mean</th>\n",
       "      <td>115.997751</td>\n",
       "      <td>9.092758</td>\n",
       "      <td>65.309529</td>\n",
       "      <td>12.245175</td>\n",
       "      <td>33.861689</td>\n",
       "    </tr>\n",
       "    <tr>\n",
       "      <th>std</th>\n",
       "      <td>53.726993</td>\n",
       "      <td>1.429862</td>\n",
       "      <td>2.658857</td>\n",
       "      <td>8.494877</td>\n",
       "      <td>8.039050</td>\n",
       "    </tr>\n",
       "    <tr>\n",
       "      <th>min</th>\n",
       "      <td>0.000000</td>\n",
       "      <td>2.000000</td>\n",
       "      <td>54.000000</td>\n",
       "      <td>0.000000</td>\n",
       "      <td>0.000000</td>\n",
       "    </tr>\n",
       "    <tr>\n",
       "      <th>25%</th>\n",
       "      <td>115.000000</td>\n",
       "      <td>8.000000</td>\n",
       "      <td>63.000000</td>\n",
       "      <td>8.000000</td>\n",
       "      <td>29.000000</td>\n",
       "    </tr>\n",
       "    <tr>\n",
       "      <th>50%</th>\n",
       "      <td>130.000000</td>\n",
       "      <td>10.000000</td>\n",
       "      <td>65.000000</td>\n",
       "      <td>12.000000</td>\n",
       "      <td>32.000000</td>\n",
       "    </tr>\n",
       "    <tr>\n",
       "      <th>75%</th>\n",
       "      <td>145.000000</td>\n",
       "      <td>10.000000</td>\n",
       "      <td>67.000000</td>\n",
       "      <td>16.000000</td>\n",
       "      <td>37.000000</td>\n",
       "    </tr>\n",
       "    <tr>\n",
       "      <th>max</th>\n",
       "      <td>300.000000</td>\n",
       "      <td>10.000000</td>\n",
       "      <td>78.000000</td>\n",
       "      <td>58.000000</td>\n",
       "      <td>117.000000</td>\n",
       "    </tr>\n",
       "  </tbody>\n",
       "</table>\n",
       "</div>"
      ],
      "text/plain": [
       "              weight         rating         height           size  \\\n",
       "count  192544.000000  192544.000000  192544.000000  192544.000000   \n",
       "mean      115.997751       9.092758      65.309529      12.245175   \n",
       "std        53.726993       1.429862       2.658857       8.494877   \n",
       "min         0.000000       2.000000      54.000000       0.000000   \n",
       "25%       115.000000       8.000000      63.000000       8.000000   \n",
       "50%       130.000000      10.000000      65.000000      12.000000   \n",
       "75%       145.000000      10.000000      67.000000      16.000000   \n",
       "max       300.000000      10.000000      78.000000      58.000000   \n",
       "\n",
       "                 age  \n",
       "count  192544.000000  \n",
       "mean       33.861689  \n",
       "std         8.039050  \n",
       "min         0.000000  \n",
       "25%        29.000000  \n",
       "50%        32.000000  \n",
       "75%        37.000000  \n",
       "max       117.000000  "
      ]
     },
     "execution_count": 27,
     "metadata": {},
     "output_type": "execute_result"
    }
   ],
   "source": [
    "df.describe()"
   ]
  },
  {
   "cell_type": "markdown",
   "id": "c4b1d9ab",
   "metadata": {},
   "source": [
    "### 10. Are there outliers present in the column age? If yes, treat them with the appropriate method."
   ]
  },
  {
   "cell_type": "code",
   "execution_count": 28,
   "id": "898d00be",
   "metadata": {},
   "outputs": [
    {
     "data": {
      "image/png": "[encoded data removed]",
      "text/plain": [
       "<Figure size 432x288 with 1 Axes>"
      ]
     },
     "metadata": {
      "needs_background": "light"
     },
     "output_type": "display_data"
    }
   ],
   "source": [
    "sns.boxplot(df['age'])\n",
    "plt.show()"
   ]
  },
  {
   "cell_type": "code",
   "execution_count": 29,
   "id": "509fee9d",
   "metadata": {},
   "outputs": [
    {
     "name": "stdout",
     "output_type": "stream",
     "text": [
      "29.0\n",
      "37.0\n",
      "8.0\n"
     ]
    }
   ],
   "source": [
    "Q1 = df['age'].quantile(0.25)\n",
    "Q3 = df['age'].quantile(0.75)\n",
    "IQR = Q3-Q1\n",
    "print(Q1)\n",
    "print(Q3)\n",
    "print(IQR)"
   ]
  },
  {
   "cell_type": "code",
   "execution_count": 30,
   "id": "1aea0f61",
   "metadata": {},
   "outputs": [
    {
     "name": "stdout",
     "output_type": "stream",
     "text": [
      "17.0\n",
      "49.0\n"
     ]
    }
   ],
   "source": [
    "lower_whisker  = Q1-(1.5*IQR)\n",
    "upper_whisker  = Q3+(1.5*IQR)\n",
    "print(lower_whisker)\n",
    "print(upper_whisker)"
   ]
  },
  {
   "cell_type": "code",
   "execution_count": 31,
   "id": "0e3d25b3",
   "metadata": {},
   "outputs": [],
   "source": [
    "df_out = df.loc[(df['age'] < upper_whisker) & (df['age'] > lower_whisker)]"
   ]
  },
  {
   "cell_type": "code",
   "execution_count": 32,
   "id": "ac501837",
   "metadata": {},
   "outputs": [
    {
     "data": {
      "image/png": "[encoded data removed]",
      "text/plain": [
       "<Figure size 432x288 with 1 Axes>"
      ]
     },
     "metadata": {
      "needs_background": "light"
     },
     "output_type": "display_data"
    }
   ],
   "source": [
    "sns.boxplot(df_out['age'])\n",
    "plt.show()"
   ]
  },
  {
   "cell_type": "markdown",
   "id": "6747f604",
   "metadata": {},
   "source": [
    "### 11. Check the distribution of the different categories in the column 'rented for' using appropriate plot."
   ]
  },
  {
   "cell_type": "code",
   "execution_count": 33,
   "id": "e38d522b",
   "metadata": {},
   "outputs": [
    {
     "data": {
      "image/png": "[encoded data removed]",
      "text/plain": [
       "<Figure size 432x288 with 1 Axes>"
      ]
     },
     "metadata": {},
     "output_type": "display_data"
    }
   ],
   "source": [
    "df['rented for'].value_counts().plot(kind='pie',autopct='%1.1f%%')\n",
    "plt.show()"
   ]
  },
  {
   "cell_type": "markdown",
   "id": "c4ca5d71",
   "metadata": {},
   "source": [
    "# ● Data Preparation for model building:"
   ]
  },
  {
   "cell_type": "markdown",
   "id": "0c133d77",
   "metadata": {},
   "source": [
    "### 12. Encode the categorical variables in the dataset"
   ]
  },
  {
   "cell_type": "code",
   "execution_count": 34,
   "id": "6b641fe5",
   "metadata": {},
   "outputs": [],
   "source": [
    "df1=df"
   ]
  },
  {
   "cell_type": "code",
   "execution_count": 35,
   "id": "10e25ced",
   "metadata": {},
   "outputs": [
    {
     "data": {
      "text/plain": [
       "Index(['fit', 'bust size', 'rented for', 'body type', 'category'], dtype='object')"
      ]
     },
     "execution_count": 35,
     "metadata": {},
     "output_type": "execute_result"
    }
   ],
   "source": [
    "df1.select_dtypes('object').columns"
   ]
  },
  {
   "cell_type": "code",
   "execution_count": 36,
   "id": "1ea60a0b",
   "metadata": {},
   "outputs": [],
   "source": [
    "from sklearn.preprocessing import LabelEncoder\n",
    "for col in df.select_dtypes('object').columns:\n",
    "    le=LabelEncoder()\n",
    "    df1[col]=le.fit_transform(df[col])"
   ]
  },
  {
   "cell_type": "code",
   "execution_count": 37,
   "id": "bada05a6",
   "metadata": {},
   "outputs": [
    {
     "data": {
      "text/html": [
       "<div>\n",
       "<style scoped>\n",
       "    .dataframe tbody tr th:only-of-type {\n",
       "        vertical-align: middle;\n",
       "    }\n",
       "\n",
       "    .dataframe tbody tr th {\n",
       "        vertical-align: top;\n",
       "    }\n",
       "\n",
       "    .dataframe thead th {\n",
       "        text-align: right;\n",
       "    }\n",
       "</style>\n",
       "<table border=\"1\" class=\"dataframe\">\n",
       "  <thead>\n",
       "    <tr style=\"text-align: right;\">\n",
       "      <th></th>\n",
       "      <th>fit</th>\n",
       "      <th>bust size</th>\n",
       "      <th>weight</th>\n",
       "      <th>rating</th>\n",
       "      <th>rented for</th>\n",
       "      <th>body type</th>\n",
       "      <th>category</th>\n",
       "      <th>height</th>\n",
       "      <th>size</th>\n",
       "      <th>age</th>\n",
       "    </tr>\n",
       "  </thead>\n",
       "  <tbody>\n",
       "    <tr>\n",
       "      <th>0</th>\n",
       "      <td>0</td>\n",
       "      <td>39</td>\n",
       "      <td>137.0</td>\n",
       "      <td>10.0</td>\n",
       "      <td>5</td>\n",
       "      <td>3</td>\n",
       "      <td>44</td>\n",
       "      <td>68.0</td>\n",
       "      <td>14</td>\n",
       "      <td>28.0</td>\n",
       "    </tr>\n",
       "    <tr>\n",
       "      <th>1</th>\n",
       "      <td>0</td>\n",
       "      <td>37</td>\n",
       "      <td>132.0</td>\n",
       "      <td>10.0</td>\n",
       "      <td>3</td>\n",
       "      <td>6</td>\n",
       "      <td>20</td>\n",
       "      <td>66.0</td>\n",
       "      <td>12</td>\n",
       "      <td>36.0</td>\n",
       "    </tr>\n",
       "    <tr>\n",
       "      <th>2</th>\n",
       "      <td>0</td>\n",
       "      <td>37</td>\n",
       "      <td>0.0</td>\n",
       "      <td>10.0</td>\n",
       "      <td>4</td>\n",
       "      <td>3</td>\n",
       "      <td>45</td>\n",
       "      <td>64.0</td>\n",
       "      <td>4</td>\n",
       "      <td>116.0</td>\n",
       "    </tr>\n",
       "    <tr>\n",
       "      <th>3</th>\n",
       "      <td>0</td>\n",
       "      <td>38</td>\n",
       "      <td>135.0</td>\n",
       "      <td>8.0</td>\n",
       "      <td>2</td>\n",
       "      <td>4</td>\n",
       "      <td>16</td>\n",
       "      <td>65.0</td>\n",
       "      <td>8</td>\n",
       "      <td>34.0</td>\n",
       "    </tr>\n",
       "    <tr>\n",
       "      <th>4</th>\n",
       "      <td>0</td>\n",
       "      <td>37</td>\n",
       "      <td>145.0</td>\n",
       "      <td>10.0</td>\n",
       "      <td>6</td>\n",
       "      <td>1</td>\n",
       "      <td>20</td>\n",
       "      <td>69.0</td>\n",
       "      <td>12</td>\n",
       "      <td>27.0</td>\n",
       "    </tr>\n",
       "    <tr>\n",
       "      <th>...</th>\n",
       "      <td>...</td>\n",
       "      <td>...</td>\n",
       "      <td>...</td>\n",
       "      <td>...</td>\n",
       "      <td>...</td>\n",
       "      <td>...</td>\n",
       "      <td>...</td>\n",
       "      <td>...</td>\n",
       "      <td>...</td>\n",
       "      <td>...</td>\n",
       "    </tr>\n",
       "    <tr>\n",
       "      <th>192539</th>\n",
       "      <td>0</td>\n",
       "      <td>41</td>\n",
       "      <td>140.0</td>\n",
       "      <td>10.0</td>\n",
       "      <td>7</td>\n",
       "      <td>3</td>\n",
       "      <td>26</td>\n",
       "      <td>69.0</td>\n",
       "      <td>8</td>\n",
       "      <td>42.0</td>\n",
       "    </tr>\n",
       "    <tr>\n",
       "      <th>192540</th>\n",
       "      <td>0</td>\n",
       "      <td>25</td>\n",
       "      <td>100.0</td>\n",
       "      <td>10.0</td>\n",
       "      <td>7</td>\n",
       "      <td>5</td>\n",
       "      <td>16</td>\n",
       "      <td>61.0</td>\n",
       "      <td>4</td>\n",
       "      <td>29.0</td>\n",
       "    </tr>\n",
       "    <tr>\n",
       "      <th>192541</th>\n",
       "      <td>0</td>\n",
       "      <td>48</td>\n",
       "      <td>135.0</td>\n",
       "      <td>6.0</td>\n",
       "      <td>1</td>\n",
       "      <td>6</td>\n",
       "      <td>16</td>\n",
       "      <td>68.0</td>\n",
       "      <td>8</td>\n",
       "      <td>31.0</td>\n",
       "    </tr>\n",
       "    <tr>\n",
       "      <th>192542</th>\n",
       "      <td>0</td>\n",
       "      <td>51</td>\n",
       "      <td>165.0</td>\n",
       "      <td>10.0</td>\n",
       "      <td>6</td>\n",
       "      <td>4</td>\n",
       "      <td>16</td>\n",
       "      <td>66.0</td>\n",
       "      <td>16</td>\n",
       "      <td>31.0</td>\n",
       "    </tr>\n",
       "    <tr>\n",
       "      <th>192543</th>\n",
       "      <td>0</td>\n",
       "      <td>50</td>\n",
       "      <td>155.0</td>\n",
       "      <td>10.0</td>\n",
       "      <td>6</td>\n",
       "      <td>1</td>\n",
       "      <td>20</td>\n",
       "      <td>66.0</td>\n",
       "      <td>16</td>\n",
       "      <td>30.0</td>\n",
       "    </tr>\n",
       "  </tbody>\n",
       "</table>\n",
       "<p>192544 rows × 10 columns</p>\n",
       "</div>"
      ],
      "text/plain": [
       "        fit  bust size  weight  rating  rented for  body type  category  \\\n",
       "0         0         39   137.0    10.0           5          3        44   \n",
       "1         0         37   132.0    10.0           3          6        20   \n",
       "2         0         37     0.0    10.0           4          3        45   \n",
       "3         0         38   135.0     8.0           2          4        16   \n",
       "4         0         37   145.0    10.0           6          1        20   \n",
       "...     ...        ...     ...     ...         ...        ...       ...   \n",
       "192539    0         41   140.0    10.0           7          3        26   \n",
       "192540    0         25   100.0    10.0           7          5        16   \n",
       "192541    0         48   135.0     6.0           1          6        16   \n",
       "192542    0         51   165.0    10.0           6          4        16   \n",
       "192543    0         50   155.0    10.0           6          1        20   \n",
       "\n",
       "        height  size    age  \n",
       "0         68.0    14   28.0  \n",
       "1         66.0    12   36.0  \n",
       "2         64.0     4  116.0  \n",
       "3         65.0     8   34.0  \n",
       "4         69.0    12   27.0  \n",
       "...        ...   ...    ...  \n",
       "192539    69.0     8   42.0  \n",
       "192540    61.0     4   29.0  \n",
       "192541    68.0     8   31.0  \n",
       "192542    66.0    16   31.0  \n",
       "192543    66.0    16   30.0  \n",
       "\n",
       "[192544 rows x 10 columns]"
      ]
     },
     "execution_count": 37,
     "metadata": {},
     "output_type": "execute_result"
    }
   ],
   "source": [
    "df1"
   ]
  },
  {
   "cell_type": "markdown",
   "id": "d3b3df07",
   "metadata": {},
   "source": [
    "### 13. Standardize the data, so that the values are within a particular range."
   ]
  },
  {
   "cell_type": "code",
   "execution_count": 38,
   "id": "931f667a",
   "metadata": {},
   "outputs": [
    {
     "name": "stdout",
     "output_type": "stream",
     "text": [
      "All features are now scaled\n"
     ]
    }
   ],
   "source": [
    "ds=df.select_dtypes(include=['int64','float64'])\n",
    "scaler = StandardScaler()\n",
    "scaler.fit(ds)\n",
    "scaled_ds =pd.DataFrame(scaler.transform(ds),columns=ds.columns)\n",
    "print(\"All features are now scaled\")"
   ]
  },
  {
   "cell_type": "code",
   "execution_count": 39,
   "id": "67956316",
   "metadata": {},
   "outputs": [
    {
     "data": {
      "text/html": [
       "<div>\n",
       "<style scoped>\n",
       "    .dataframe tbody tr th:only-of-type {\n",
       "        vertical-align: middle;\n",
       "    }\n",
       "\n",
       "    .dataframe tbody tr th {\n",
       "        vertical-align: top;\n",
       "    }\n",
       "\n",
       "    .dataframe thead th {\n",
       "        text-align: right;\n",
       "    }\n",
       "</style>\n",
       "<table border=\"1\" class=\"dataframe\">\n",
       "  <thead>\n",
       "    <tr style=\"text-align: right;\">\n",
       "      <th></th>\n",
       "      <th>weight</th>\n",
       "      <th>rating</th>\n",
       "      <th>height</th>\n",
       "      <th>size</th>\n",
       "      <th>age</th>\n",
       "    </tr>\n",
       "  </thead>\n",
       "  <tbody>\n",
       "    <tr>\n",
       "      <th>0</th>\n",
       "      <td>0.390908</td>\n",
       "      <td>0.634498</td>\n",
       "      <td>1.011893</td>\n",
       "      <td>0.206575</td>\n",
       "      <td>-0.729154</td>\n",
       "    </tr>\n",
       "    <tr>\n",
       "      <th>1</th>\n",
       "      <td>0.297845</td>\n",
       "      <td>0.634498</td>\n",
       "      <td>0.259688</td>\n",
       "      <td>-0.028862</td>\n",
       "      <td>0.265991</td>\n",
       "    </tr>\n",
       "    <tr>\n",
       "      <th>2</th>\n",
       "      <td>-2.159027</td>\n",
       "      <td>0.634498</td>\n",
       "      <td>-0.492517</td>\n",
       "      <td>-0.970608</td>\n",
       "      <td>10.217442</td>\n",
       "    </tr>\n",
       "    <tr>\n",
       "      <th>3</th>\n",
       "      <td>0.353683</td>\n",
       "      <td>-0.764242</td>\n",
       "      <td>-0.116415</td>\n",
       "      <td>-0.499735</td>\n",
       "      <td>0.017205</td>\n",
       "    </tr>\n",
       "    <tr>\n",
       "      <th>4</th>\n",
       "      <td>0.539809</td>\n",
       "      <td>0.634498</td>\n",
       "      <td>1.387995</td>\n",
       "      <td>-0.028862</td>\n",
       "      <td>-0.853547</td>\n",
       "    </tr>\n",
       "    <tr>\n",
       "      <th>...</th>\n",
       "      <td>...</td>\n",
       "      <td>...</td>\n",
       "      <td>...</td>\n",
       "      <td>...</td>\n",
       "      <td>...</td>\n",
       "    </tr>\n",
       "    <tr>\n",
       "      <th>192539</th>\n",
       "      <td>0.446746</td>\n",
       "      <td>0.634498</td>\n",
       "      <td>1.387995</td>\n",
       "      <td>-0.499735</td>\n",
       "      <td>1.012350</td>\n",
       "    </tr>\n",
       "    <tr>\n",
       "      <th>192540</th>\n",
       "      <td>-0.297761</td>\n",
       "      <td>0.634498</td>\n",
       "      <td>-1.620824</td>\n",
       "      <td>-0.970608</td>\n",
       "      <td>-0.604761</td>\n",
       "    </tr>\n",
       "    <tr>\n",
       "      <th>192541</th>\n",
       "      <td>0.353683</td>\n",
       "      <td>-2.162982</td>\n",
       "      <td>1.011893</td>\n",
       "      <td>-0.499735</td>\n",
       "      <td>-0.355974</td>\n",
       "    </tr>\n",
       "    <tr>\n",
       "      <th>192542</th>\n",
       "      <td>0.912063</td>\n",
       "      <td>0.634498</td>\n",
       "      <td>0.259688</td>\n",
       "      <td>0.442012</td>\n",
       "      <td>-0.355974</td>\n",
       "    </tr>\n",
       "    <tr>\n",
       "      <th>192543</th>\n",
       "      <td>0.725936</td>\n",
       "      <td>0.634498</td>\n",
       "      <td>0.259688</td>\n",
       "      <td>0.442012</td>\n",
       "      <td>-0.480368</td>\n",
       "    </tr>\n",
       "  </tbody>\n",
       "</table>\n",
       "<p>192544 rows × 5 columns</p>\n",
       "</div>"
      ],
      "text/plain": [
       "          weight    rating    height      size        age\n",
       "0       0.390908  0.634498  1.011893  0.206575  -0.729154\n",
       "1       0.297845  0.634498  0.259688 -0.028862   0.265991\n",
       "2      -2.159027  0.634498 -0.492517 -0.970608  10.217442\n",
       "3       0.353683 -0.764242 -0.116415 -0.499735   0.017205\n",
       "4       0.539809  0.634498  1.387995 -0.028862  -0.853547\n",
       "...          ...       ...       ...       ...        ...\n",
       "192539  0.446746  0.634498  1.387995 -0.499735   1.012350\n",
       "192540 -0.297761  0.634498 -1.620824 -0.970608  -0.604761\n",
       "192541  0.353683 -2.162982  1.011893 -0.499735  -0.355974\n",
       "192542  0.912063  0.634498  0.259688  0.442012  -0.355974\n",
       "192543  0.725936  0.634498  0.259688  0.442012  -0.480368\n",
       "\n",
       "[192544 rows x 5 columns]"
      ]
     },
     "execution_count": 39,
     "metadata": {},
     "output_type": "execute_result"
    }
   ],
   "source": [
    "scaled_ds"
   ]
  },
  {
   "cell_type": "markdown",
   "id": "22d269fa",
   "metadata": {},
   "source": [
    "# ● Principal Component Analysis and Clustering:"
   ]
  },
  {
   "cell_type": "markdown",
   "id": "878fa1a2",
   "metadata": {},
   "source": [
    "### 14. Apply PCA on the above dataset and determine the number of PCA components to be used so that 90-95% of the variance in data is explained by the same."
   ]
  },
  {
   "cell_type": "code",
   "execution_count": 40,
   "id": "c8520284",
   "metadata": {},
   "outputs": [
    {
     "name": "stdout",
     "output_type": "stream",
     "text": [
      "Covariance matrix \n",
      " [[ 1.00000519 -0.01067186  0.09999958  0.08772758  0.06137198]\n",
      " [-0.01067186  1.00000519  0.00174836 -0.03672869 -0.03513107]\n",
      " [ 0.09999958  0.00174836  1.00000519  0.22842543 -0.00728095]\n",
      " [ 0.08772758 -0.03672869  0.22842543  1.00000519  0.15512023]\n",
      " [ 0.06137198 -0.03513107 -0.00728095  0.15512023  1.00000519]]\n"
     ]
    }
   ],
   "source": [
    "## Calculating covariance matrix\n",
    "cov_matrix = np.cov(scaled_ds.T)\n",
    "print('Covariance matrix','\\n',cov_matrix)"
   ]
  },
  {
   "cell_type": "code",
   "execution_count": 41,
   "id": "7b6d6d93",
   "metadata": {},
   "outputs": [
    {
     "name": "stdout",
     "output_type": "stream",
     "text": [
      "Eigen vectors: \n",
      " [[-0.39274891  0.08859475 -0.10206895 -0.90407675  0.10063016]\n",
      " [ 0.11636651  0.04571497 -0.63715251  0.10962975  0.75258685]\n",
      " [-0.53764259 -0.59690653 -0.47136023  0.19400967 -0.30793314]\n",
      " [-0.6409564   0.68495649  0.00105386  0.34633124  0.00794109]\n",
      " [-0.36376155 -0.40570718  0.60119633  0.11419924  0.57323706]]\n",
      "\n",
      "\n",
      "Eigen values: \n",
      " [1.34007031 0.71795973 1.03279831 0.93848125 0.97071637]\n"
     ]
    }
   ],
   "source": [
    "## Calculating eigen values and eigen vectors\n",
    "eig_vals, eig_vecs = np.linalg.eig(cov_matrix)\n",
    "print('Eigen vectors:','\\n',eig_vecs)\n",
    "print('\\n')\n",
    "print('Eigen values:','\\n',eig_vals)"
   ]
  },
  {
   "cell_type": "code",
   "execution_count": 42,
   "id": "1998ef21",
   "metadata": {},
   "outputs": [
    {
     "name": "stdout",
     "output_type": "stream",
     "text": [
      "Variance Explained:  [26.801267057573437, 20.655859011281084, 19.41422647500126, 18.76952747785079, 14.359119978293414]\n",
      "Cummulative Variance Explained:  [ 26.80126706  47.45712607  66.87135254  85.64088002 100.        ]\n"
     ]
    }
   ],
   "source": [
    "## Calculating the Variance explained and the cummulative variance explained\n",
    "total = sum(eig_vals)\n",
    "var_exp = [ (i/total)*100  for i in sorted(eig_vals,reverse=True)]\n",
    "cum_var_exp = np.cumsum(var_exp)\n",
    "print('Variance Explained: ',var_exp)\n",
    "print('Cummulative Variance Explained: ',cum_var_exp)"
   ]
  },
  {
   "cell_type": "code",
   "execution_count": 43,
   "id": "433516d1",
   "metadata": {},
   "outputs": [
    {
     "data": {
      "image/png": "[encoded data removed]",
      "text/plain": [
       "<Figure size 432x288 with 1 Axes>"
      ]
     },
     "metadata": {
      "needs_background": "light"
     },
     "output_type": "display_data"
    }
   ],
   "source": [
    "## Scree plot\n",
    "plt.bar(range(5),var_exp, align='center',color='lightgreen',edgecolor='black',label='Indiviual Explained Varinace')\n",
    "plt.step(range(5), cum_var_exp, where='mid',color='red',label='Cummulative explained Variance')\n",
    "plt.legend(loc = 'best')\n",
    "plt.ylabel('Explained Variance Ratio')\n",
    "plt.xlabel('Principal Components')\n",
    "plt.tight_layout()\n",
    "plt.show()"
   ]
  },
  {
   "cell_type": "markdown",
   "id": "93d5b9a5",
   "metadata": {},
   "source": [
    "### 15. Apply K-means clustering and segment the data. (You may use original data or PCA transformed data) (8)\n"
   ]
  },
  {
   "cell_type": "raw",
   "id": "98c886b2",
   "metadata": {},
   "source": [
    "a. Find the optimal K Value using elbow plot for K Means clustering.\n",
    "b. Build a Kmeans clustering model using the obtained optimal K value\n",
    "from the elbow plot.\n",
    "c. Compute silhouette score for evaluating the quality of the K Means\n",
    "clustering technique."
   ]
  },
  {
   "cell_type": "code",
   "execution_count": 44,
   "id": "9a283bde",
   "metadata": {},
   "outputs": [
    {
     "data": {
      "text/plain": [
       "PCA(n_components=5)"
      ]
     },
     "execution_count": 44,
     "metadata": {},
     "output_type": "execute_result"
    }
   ],
   "source": [
    "## Fitting the PCA model\n",
    "pca=PCA(n_components = 5)\n",
    "pca.fit(scaled_ds)"
   ]
  },
  {
   "cell_type": "code",
   "execution_count": 45,
   "id": "7992c039",
   "metadata": {},
   "outputs": [
    {
     "data": {
      "text/html": [
       "<div>\n",
       "<style scoped>\n",
       "    .dataframe tbody tr th:only-of-type {\n",
       "        vertical-align: middle;\n",
       "    }\n",
       "\n",
       "    .dataframe tbody tr th {\n",
       "        vertical-align: top;\n",
       "    }\n",
       "\n",
       "    .dataframe thead th {\n",
       "        text-align: right;\n",
       "    }\n",
       "</style>\n",
       "<table border=\"1\" class=\"dataframe\">\n",
       "  <thead>\n",
       "    <tr style=\"text-align: right;\">\n",
       "      <th></th>\n",
       "      <th>PC1</th>\n",
       "      <th>PC2</th>\n",
       "      <th>PC3</th>\n",
       "      <th>PC4</th>\n",
       "      <th>PC5</th>\n",
       "    </tr>\n",
       "  </thead>\n",
       "  <tbody>\n",
       "    <tr>\n",
       "      <th>0</th>\n",
       "      <td>0.490898</td>\n",
       "      <td>-1.359284</td>\n",
       "      <td>-0.211081</td>\n",
       "      <td>-0.099259</td>\n",
       "      <td>0.103049</td>\n",
       "    </tr>\n",
       "    <tr>\n",
       "      <th>1</th>\n",
       "      <td>0.261021</td>\n",
       "      <td>-0.397196</td>\n",
       "      <td>0.579767</td>\n",
       "      <td>-0.128952</td>\n",
       "      <td>0.227299</td>\n",
       "    </tr>\n",
       "    <tr>\n",
       "      <th>2</th>\n",
       "      <td>1.908007</td>\n",
       "      <td>6.189917</td>\n",
       "      <td>6.261222</td>\n",
       "      <td>2.756605</td>\n",
       "      <td>4.678400</td>\n",
       "    </tr>\n",
       "    <tr>\n",
       "      <th>3</th>\n",
       "      <td>-0.148799</td>\n",
       "      <td>0.515529</td>\n",
       "      <td>-0.497825</td>\n",
       "      <td>-0.597234</td>\n",
       "      <td>0.283391</td>\n",
       "    </tr>\n",
       "    <tr>\n",
       "      <th>4</th>\n",
       "      <td>0.555434</td>\n",
       "      <td>-1.626795</td>\n",
       "      <td>-0.385088</td>\n",
       "      <td>-0.256655</td>\n",
       "      <td>0.425152</td>\n",
       "    </tr>\n",
       "  </tbody>\n",
       "</table>\n",
       "</div>"
      ],
      "text/plain": [
       "        PC1       PC2       PC3       PC4       PC5\n",
       "0  0.490898 -1.359284 -0.211081 -0.099259  0.103049\n",
       "1  0.261021 -0.397196  0.579767 -0.128952  0.227299\n",
       "2  1.908007  6.189917  6.261222  2.756605  4.678400\n",
       "3 -0.148799  0.515529 -0.497825 -0.597234  0.283391\n",
       "4  0.555434 -1.626795 -0.385088 -0.256655  0.425152"
      ]
     },
     "execution_count": 45,
     "metadata": {},
     "output_type": "execute_result"
    }
   ],
   "source": [
    "data_pca = pca.transform(scaled_ds)\n",
    "data_pca = pd.DataFrame(data_pca,columns=['PC1','PC2','PC3','PC4','PC5'])\n",
    "data_pca.head()"
   ]
  },
  {
   "cell_type": "code",
   "execution_count": 46,
   "id": "5f6b8994",
   "metadata": {},
   "outputs": [
    {
     "data": {
      "text/html": [
       "<div>\n",
       "<style scoped>\n",
       "    .dataframe tbody tr th:only-of-type {\n",
       "        vertical-align: middle;\n",
       "    }\n",
       "\n",
       "    .dataframe tbody tr th {\n",
       "        vertical-align: top;\n",
       "    }\n",
       "\n",
       "    .dataframe thead th {\n",
       "        text-align: right;\n",
       "    }\n",
       "</style>\n",
       "<table border=\"1\" class=\"dataframe\">\n",
       "  <thead>\n",
       "    <tr style=\"text-align: right;\">\n",
       "      <th></th>\n",
       "      <th>num_clusters</th>\n",
       "      <th>cluster_errors</th>\n",
       "    </tr>\n",
       "  </thead>\n",
       "  <tbody>\n",
       "    <tr>\n",
       "      <th>0</th>\n",
       "      <td>1</td>\n",
       "      <td>962720.000000</td>\n",
       "    </tr>\n",
       "    <tr>\n",
       "      <th>1</th>\n",
       "      <td>2</td>\n",
       "      <td>788807.137006</td>\n",
       "    </tr>\n",
       "    <tr>\n",
       "      <th>2</th>\n",
       "      <td>3</td>\n",
       "      <td>652736.123123</td>\n",
       "    </tr>\n",
       "    <tr>\n",
       "      <th>3</th>\n",
       "      <td>4</td>\n",
       "      <td>563360.526644</td>\n",
       "    </tr>\n",
       "    <tr>\n",
       "      <th>4</th>\n",
       "      <td>5</td>\n",
       "      <td>490585.830535</td>\n",
       "    </tr>\n",
       "    <tr>\n",
       "      <th>5</th>\n",
       "      <td>6</td>\n",
       "      <td>440250.227943</td>\n",
       "    </tr>\n",
       "    <tr>\n",
       "      <th>6</th>\n",
       "      <td>7</td>\n",
       "      <td>413537.050037</td>\n",
       "    </tr>\n",
       "    <tr>\n",
       "      <th>7</th>\n",
       "      <td>8</td>\n",
       "      <td>384621.707143</td>\n",
       "    </tr>\n",
       "    <tr>\n",
       "      <th>8</th>\n",
       "      <td>9</td>\n",
       "      <td>364440.714027</td>\n",
       "    </tr>\n",
       "    <tr>\n",
       "      <th>9</th>\n",
       "      <td>10</td>\n",
       "      <td>347800.978522</td>\n",
       "    </tr>\n",
       "    <tr>\n",
       "      <th>10</th>\n",
       "      <td>11</td>\n",
       "      <td>330967.997772</td>\n",
       "    </tr>\n",
       "    <tr>\n",
       "      <th>11</th>\n",
       "      <td>12</td>\n",
       "      <td>316604.046364</td>\n",
       "    </tr>\n",
       "    <tr>\n",
       "      <th>12</th>\n",
       "      <td>13</td>\n",
       "      <td>303328.281422</td>\n",
       "    </tr>\n",
       "    <tr>\n",
       "      <th>13</th>\n",
       "      <td>14</td>\n",
       "      <td>293398.085357</td>\n",
       "    </tr>\n",
       "  </tbody>\n",
       "</table>\n",
       "</div>"
      ],
      "text/plain": [
       "    num_clusters  cluster_errors\n",
       "0              1   962720.000000\n",
       "1              2   788807.137006\n",
       "2              3   652736.123123\n",
       "3              4   563360.526644\n",
       "4              5   490585.830535\n",
       "5              6   440250.227943\n",
       "6              7   413537.050037\n",
       "7              8   384621.707143\n",
       "8              9   364440.714027\n",
       "9             10   347800.978522\n",
       "10            11   330967.997772\n",
       "11            12   316604.046364\n",
       "12            13   303328.281422\n",
       "13            14   293398.085357"
      ]
     },
     "execution_count": 46,
     "metadata": {},
     "output_type": "execute_result"
    }
   ],
   "source": [
    "cluster_range = range(1,15)\n",
    "cluster_errors = []\n",
    "\n",
    "for num_clusters in cluster_range:\n",
    "   \n",
    "    clusters = KMeans(num_clusters, n_init=8)\n",
    "    clusters.fit(data_pca)\n",
    "    \n",
    "    labels = clusters.labels_\n",
    "    centroids = clusters.cluster_centers_\n",
    "    \n",
    "    cluster_errors.append(clusters.inertia_)\n",
    "\n",
    "clusters_df = pd.DataFrame({'num_clusters':cluster_range, \n",
    "                           'cluster_errors':cluster_errors})\n",
    "\n",
    "clusters_df"
   ]
  },
  {
   "cell_type": "code",
   "execution_count": 47,
   "id": "ddbe24a2",
   "metadata": {},
   "outputs": [
    {
     "data": {
      "image/png": "[encoded data removed]",
      "text/plain": [
       "<Figure size 1080x360 with 1 Axes>"
      ]
     },
     "metadata": {
      "needs_background": "light"
     },
     "output_type": "display_data"
    }
   ],
   "source": [
    "# Elbow method\n",
    "plt.figure(figsize=[15,5])\n",
    "plt.title('The Elbow Method')\n",
    "plt.xlabel('Number of clusters using PCA')\n",
    "plt.plot(clusters_df['num_clusters'],clusters_df['cluster_errors'],marker='o',color='b')\n",
    "plt.show()"
   ]
  },
  {
   "cell_type": "code",
   "execution_count": 48,
   "id": "21bfe171",
   "metadata": {},
   "outputs": [
    {
     "data": {
      "text/plain": [
       "KMeans(n_clusters=3, n_init=15, random_state=100)"
      ]
     },
     "execution_count": 48,
     "metadata": {},
     "output_type": "execute_result"
    }
   ],
   "source": [
    "## Fit the KMeans clustering model using the obtained optimal K\n",
    "kmeans = KMeans(n_clusters=3, n_init=15, random_state=100)\n",
    "kmeans.fit(data_pca)"
   ]
  },
  {
   "cell_type": "code",
   "execution_count": 49,
   "id": "56741b65",
   "metadata": {},
   "outputs": [
    {
     "data": {
      "text/plain": [
       "array([1, 1, 1, ..., 1, 1, 1])"
      ]
     },
     "execution_count": 49,
     "metadata": {},
     "output_type": "execute_result"
    }
   ],
   "source": [
    "## obtained labels from kmeans clustering\n",
    "kmeans.labels_"
   ]
  },
  {
   "cell_type": "code",
   "execution_count": 50,
   "id": "acd26c0d",
   "metadata": {},
   "outputs": [
    {
     "data": {
      "text/html": [
       "<div>\n",
       "<style scoped>\n",
       "    .dataframe tbody tr th:only-of-type {\n",
       "        vertical-align: middle;\n",
       "    }\n",
       "\n",
       "    .dataframe tbody tr th {\n",
       "        vertical-align: top;\n",
       "    }\n",
       "\n",
       "    .dataframe thead th {\n",
       "        text-align: right;\n",
       "    }\n",
       "</style>\n",
       "<table border=\"1\" class=\"dataframe\">\n",
       "  <thead>\n",
       "    <tr style=\"text-align: right;\">\n",
       "      <th></th>\n",
       "      <th>PC1</th>\n",
       "      <th>PC2</th>\n",
       "      <th>PC3</th>\n",
       "      <th>PC4</th>\n",
       "      <th>PC5</th>\n",
       "      <th>Labels</th>\n",
       "    </tr>\n",
       "  </thead>\n",
       "  <tbody>\n",
       "    <tr>\n",
       "      <th>0</th>\n",
       "      <td>0.490898</td>\n",
       "      <td>-1.359284</td>\n",
       "      <td>-0.211081</td>\n",
       "      <td>-0.099259</td>\n",
       "      <td>0.103049</td>\n",
       "      <td>1</td>\n",
       "    </tr>\n",
       "    <tr>\n",
       "      <th>1</th>\n",
       "      <td>0.261021</td>\n",
       "      <td>-0.397196</td>\n",
       "      <td>0.579767</td>\n",
       "      <td>-0.128952</td>\n",
       "      <td>0.227299</td>\n",
       "      <td>1</td>\n",
       "    </tr>\n",
       "    <tr>\n",
       "      <th>2</th>\n",
       "      <td>1.908007</td>\n",
       "      <td>6.189917</td>\n",
       "      <td>6.261222</td>\n",
       "      <td>2.756605</td>\n",
       "      <td>4.678400</td>\n",
       "      <td>1</td>\n",
       "    </tr>\n",
       "    <tr>\n",
       "      <th>3</th>\n",
       "      <td>-0.148799</td>\n",
       "      <td>0.515529</td>\n",
       "      <td>-0.497825</td>\n",
       "      <td>-0.597234</td>\n",
       "      <td>0.283391</td>\n",
       "      <td>0</td>\n",
       "    </tr>\n",
       "    <tr>\n",
       "      <th>4</th>\n",
       "      <td>0.555434</td>\n",
       "      <td>-1.626795</td>\n",
       "      <td>-0.385088</td>\n",
       "      <td>-0.256655</td>\n",
       "      <td>0.425152</td>\n",
       "      <td>1</td>\n",
       "    </tr>\n",
       "  </tbody>\n",
       "</table>\n",
       "</div>"
      ],
      "text/plain": [
       "        PC1       PC2       PC3       PC4       PC5  Labels\n",
       "0  0.490898 -1.359284 -0.211081 -0.099259  0.103049       1\n",
       "1  0.261021 -0.397196  0.579767 -0.128952  0.227299       1\n",
       "2  1.908007  6.189917  6.261222  2.756605  4.678400       1\n",
       "3 -0.148799  0.515529 -0.497825 -0.597234  0.283391       0\n",
       "4  0.555434 -1.626795 -0.385088 -0.256655  0.425152       1"
      ]
     },
     "execution_count": 50,
     "metadata": {},
     "output_type": "execute_result"
    }
   ],
   "source": [
    "## Creating a new dataframe only for labels.\n",
    "df_labels = pd.DataFrame(kmeans.labels_, columns=list(['Labels']))\n",
    "kmeans_df=data_pca.join(df_labels)\n",
    "kmeans_df.head(5)"
   ]
  },
  {
   "cell_type": "code",
   "execution_count": 51,
   "id": "45b15f48",
   "metadata": {},
   "outputs": [
    {
     "data": {
      "text/plain": [
       "0    93110\n",
       "1    69472\n",
       "2    29962\n",
       "Name: Labels, dtype: int64"
      ]
     },
     "execution_count": 51,
     "metadata": {},
     "output_type": "execute_result"
    }
   ],
   "source": [
    "kmeans_df['Labels'].value_counts()"
   ]
  },
  {
   "cell_type": "code",
   "execution_count": null,
   "id": "ce6ef94f",
   "metadata": {},
   "outputs": [],
   "source": [
    "from sklearn.metrics import silhouette_score\n",
    "kmeans_score = []\n",
    "\n",
    "for i in range(2,15):\n",
    "    kmeans = KMeans(n_clusters=i)\n",
    "    kmeans = kmeans.fit(data_pca)\n",
    "    labels = kmeans.predict(data_pca)\n",
    "    print(i,silhouette_score(data_pca,labels))"
   ]
  },
  {
   "cell_type": "markdown",
   "id": "d90c770c",
   "metadata": {},
   "source": [
    "### 16. Apply Agglomerative clustering and segment the data. (You may use original data or PCA transformed data) "
   ]
  },
  {
   "cell_type": "raw",
   "id": "3f813661",
   "metadata": {},
   "source": [
    "a. Find the optimal K Value using dendrogram for Agglomerative clustering.\n",
    "b. Build a Agglomerative clustering model using the obtained optimal K\n",
    "value observed from dendrogram.\n",
    "c. Compute silhouette score for evaluating the quality of the Agglomerative\n",
    "clustering technique. (Hint: Take a sample of the dataset for agglomerative\n",
    "clustering to reduce the computational time)"
   ]
  },
  {
   "cell_type": "code",
   "execution_count": null,
   "id": "7c6b218b",
   "metadata": {},
   "outputs": [],
   "source": [
    "plt.figure(figsize=[18,7])\n",
    "merg = linkage(data_pca, method='ward')\n",
    "dendrogram(merg, leaf_rotation=90,)\n",
    "plt.xlabel('Datapoints')\n",
    "plt.ylabel('Euclidean distance')\n",
    "plt.show()"
   ]
  },
  {
   "cell_type": "code",
   "execution_count": null,
   "id": "a70e2d8f",
   "metadata": {},
   "outputs": [],
   "source": [
    "## Building hierarchical clustering model using the optimal clusters as 4\n",
    "hie_cluster = AgglomerativeClustering(n_clusters=3, affinity='euclidean',\n",
    "                                     linkage='ward')\n",
    "hie_cluster_model = hie_cluster.fit(data_pca)"
   ]
  },
  {
   "cell_type": "code",
   "execution_count": null,
   "id": "42fdb7f6",
   "metadata": {},
   "outputs": [],
   "source": [
    "## Creating a dataframe of the labels\n",
    "df_label1 = pd.DataFrame(hie_cluster_model.labels_,columns=['Labels'])\n",
    "df_label1.head(5)"
   ]
  },
  {
   "cell_type": "code",
   "execution_count": null,
   "id": "a4aafb41",
   "metadata": {},
   "outputs": [],
   "source": [
    "for i in range(2,15):\n",
    "    hier = AgglomerativeClustering(n_clusters=i)\n",
    "    hier = hier.fit(data_pca)\n",
    "    labels = hier.fit_predict(data_pca)\n",
    "    print(i,silhouette_score(data_pca,labels))"
   ]
  },
  {
   "cell_type": "markdown",
   "id": "aa4f0d7b",
   "metadata": {},
   "source": [
    "# ● Conclusion :"
   ]
  },
  {
   "cell_type": "markdown",
   "id": "b71b8d9f",
   "metadata": {},
   "source": [
    "### 17. Perform cluster analysis by doing bivariate analysis between cluster labels and different features and write your conclusion on the results. "
   ]
  },
  {
   "cell_type": "code",
   "execution_count": null,
   "id": "19d02994",
   "metadata": {},
   "outputs": [],
   "source": []
  },
  {
   "cell_type": "code",
   "execution_count": null,
   "id": "08c5a9c8",
   "metadata": {},
   "outputs": [],
   "source": []
  },
  {
   "cell_type": "code",
   "execution_count": null,
   "id": "d42d0dcc",
   "metadata": {},
   "outputs": [],
   "source": []
  },
  {
   "cell_type": "markdown",
   "id": "3e9feb36",
   "metadata": {},
   "source": [
    "# Happy Learning:)"
   ]
  }
 ],
 "metadata": {
  "kernelspec": {
   "display_name": "Python 3 (ipykernel)",
   "language": "python",
   "name": "python3"
  },
  "language_info": {
   "codemirror_mode": {
    "name": "ipython",
    "version": 3
   },
   "file_extension": ".py",
   "mimetype": "text/x-python",
   "name": "python",
   "nbconvert_exporter": "python",
   "pygments_lexer": "ipython3",
   "version": "3.9.12"
  }
 },
 "nbformat": 4,
 "nbformat_minor": 5
}
